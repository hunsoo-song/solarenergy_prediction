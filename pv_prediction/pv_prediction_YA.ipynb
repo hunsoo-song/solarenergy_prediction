{
 "cells": [
  {
   "cell_type": "code",
   "execution_count": 1,
   "metadata": {},
   "outputs": [
    {
     "data": {
      "text/plain": [
       "'C:\\\\Users\\\\Hunsoo\\\\Desktop\\\\regression_practice\\\\Data\\\\pvprediction_yeongam'"
      ]
     },
     "execution_count": 1,
     "metadata": {},
     "output_type": "execute_result"
    }
   ],
   "source": [
    "from __future__ import absolute_import, division, print_function, unicode_literals\n",
    "import pathlib\n",
    "import matplotlib.pyplot as plt\n",
    "import pandas as pd\n",
    "import seaborn as sns\n",
    "import tensorflow as tf\n",
    "from tensorflow import keras\n",
    "from tensorflow.keras import layers\n",
    "import numpy as np\n",
    "import os\n",
    "os.chdir(\"C:\\\\Users\\\\Hunsoo\\\\Desktop\\\\regression_practice\\\\Data\")\n",
    "dataset_path = os.path.join(os.getcwd(),\"pvprediction_yeongam\")\n",
    "dataset_path"
   ]
  },
  {
   "cell_type": "code",
   "execution_count": 2,
   "metadata": {
    "scrolled": true
   },
   "outputs": [
    {
     "data": {
      "text/html": [
       "<div>\n",
       "<style scoped>\n",
       "    .dataframe tbody tr th:only-of-type {\n",
       "        vertical-align: middle;\n",
       "    }\n",
       "\n",
       "    .dataframe tbody tr th {\n",
       "        vertical-align: top;\n",
       "    }\n",
       "\n",
       "    .dataframe thead th {\n",
       "        text-align: right;\n",
       "    }\n",
       "</style>\n",
       "<table border=\"1\" class=\"dataframe\">\n",
       "  <thead>\n",
       "    <tr style=\"text-align: right;\">\n",
       "      <th></th>\n",
       "      <th>point</th>\n",
       "      <th>year</th>\n",
       "      <th>day365</th>\n",
       "      <th>clock</th>\n",
       "      <th>temp</th>\n",
       "      <th>windspeed</th>\n",
       "      <th>winddirection</th>\n",
       "      <th>humidity</th>\n",
       "      <th>vaporpressure</th>\n",
       "      <th>dewpointtemperature</th>\n",
       "      <th>...</th>\n",
       "      <th>pv-4h</th>\n",
       "      <th>pv-3h</th>\n",
       "      <th>pv-2h</th>\n",
       "      <th>pv-1h</th>\n",
       "      <th>pv+0h</th>\n",
       "      <th>pv+1h</th>\n",
       "      <th>pv+2h</th>\n",
       "      <th>pv+3h</th>\n",
       "      <th>pv+4h</th>\n",
       "      <th>pv+5h</th>\n",
       "    </tr>\n",
       "  </thead>\n",
       "  <tbody>\n",
       "    <tr>\n",
       "      <th>0</th>\n",
       "      <td>165</td>\n",
       "      <td>2015</td>\n",
       "      <td>1</td>\n",
       "      <td>0</td>\n",
       "      <td>-1.2</td>\n",
       "      <td>7.6</td>\n",
       "      <td>NaN</td>\n",
       "      <td>NaN</td>\n",
       "      <td>5.6</td>\n",
       "      <td>-1.2</td>\n",
       "      <td>...</td>\n",
       "      <td>0</td>\n",
       "      <td>0</td>\n",
       "      <td>0</td>\n",
       "      <td>0</td>\n",
       "      <td>0</td>\n",
       "      <td>0</td>\n",
       "      <td>0</td>\n",
       "      <td>0</td>\n",
       "      <td>0</td>\n",
       "      <td>0</td>\n",
       "    </tr>\n",
       "    <tr>\n",
       "      <th>1</th>\n",
       "      <td>165</td>\n",
       "      <td>2015</td>\n",
       "      <td>1</td>\n",
       "      <td>1</td>\n",
       "      <td>-1.8</td>\n",
       "      <td>10.4</td>\n",
       "      <td>NaN</td>\n",
       "      <td>NaN</td>\n",
       "      <td>5.4</td>\n",
       "      <td>-1.8</td>\n",
       "      <td>...</td>\n",
       "      <td>0</td>\n",
       "      <td>0</td>\n",
       "      <td>0</td>\n",
       "      <td>0</td>\n",
       "      <td>0</td>\n",
       "      <td>0</td>\n",
       "      <td>0</td>\n",
       "      <td>0</td>\n",
       "      <td>0</td>\n",
       "      <td>0</td>\n",
       "    </tr>\n",
       "    <tr>\n",
       "      <th>2</th>\n",
       "      <td>165</td>\n",
       "      <td>2015</td>\n",
       "      <td>1</td>\n",
       "      <td>2</td>\n",
       "      <td>-1.7</td>\n",
       "      <td>10.9</td>\n",
       "      <td>NaN</td>\n",
       "      <td>96.0</td>\n",
       "      <td>5.2</td>\n",
       "      <td>-2.2</td>\n",
       "      <td>...</td>\n",
       "      <td>0</td>\n",
       "      <td>0</td>\n",
       "      <td>0</td>\n",
       "      <td>0</td>\n",
       "      <td>0</td>\n",
       "      <td>0</td>\n",
       "      <td>0</td>\n",
       "      <td>0</td>\n",
       "      <td>0</td>\n",
       "      <td>0</td>\n",
       "    </tr>\n",
       "    <tr>\n",
       "      <th>3</th>\n",
       "      <td>165</td>\n",
       "      <td>2015</td>\n",
       "      <td>1</td>\n",
       "      <td>3</td>\n",
       "      <td>-1.6</td>\n",
       "      <td>11.6</td>\n",
       "      <td>NaN</td>\n",
       "      <td>75.0</td>\n",
       "      <td>4.1</td>\n",
       "      <td>-5.4</td>\n",
       "      <td>...</td>\n",
       "      <td>0</td>\n",
       "      <td>0</td>\n",
       "      <td>0</td>\n",
       "      <td>0</td>\n",
       "      <td>0</td>\n",
       "      <td>0</td>\n",
       "      <td>0</td>\n",
       "      <td>0</td>\n",
       "      <td>0</td>\n",
       "      <td>0</td>\n",
       "    </tr>\n",
       "    <tr>\n",
       "      <th>4</th>\n",
       "      <td>165</td>\n",
       "      <td>2015</td>\n",
       "      <td>1</td>\n",
       "      <td>4</td>\n",
       "      <td>-1.8</td>\n",
       "      <td>10.8</td>\n",
       "      <td>NaN</td>\n",
       "      <td>74.0</td>\n",
       "      <td>4.0</td>\n",
       "      <td>-5.8</td>\n",
       "      <td>...</td>\n",
       "      <td>0</td>\n",
       "      <td>0</td>\n",
       "      <td>0</td>\n",
       "      <td>0</td>\n",
       "      <td>0</td>\n",
       "      <td>0</td>\n",
       "      <td>0</td>\n",
       "      <td>0</td>\n",
       "      <td>0</td>\n",
       "      <td>5</td>\n",
       "    </tr>\n",
       "  </tbody>\n",
       "</table>\n",
       "<p>5 rows × 34 columns</p>\n",
       "</div>"
      ],
      "text/plain": [
       "   point  year  day365  clock  temp  windspeed  winddirection  humidity  \\\n",
       "0    165  2015       1      0  -1.2        7.6            NaN       NaN   \n",
       "1    165  2015       1      1  -1.8       10.4            NaN       NaN   \n",
       "2    165  2015       1      2  -1.7       10.9            NaN      96.0   \n",
       "3    165  2015       1      3  -1.6       11.6            NaN      75.0   \n",
       "4    165  2015       1      4  -1.8       10.8            NaN      74.0   \n",
       "\n",
       "   vaporpressure  dewpointtemperature  ...  pv-4h  pv-3h  pv-2h  pv-1h  pv+0h  \\\n",
       "0            5.6                 -1.2  ...      0      0      0      0      0   \n",
       "1            5.4                 -1.8  ...      0      0      0      0      0   \n",
       "2            5.2                 -2.2  ...      0      0      0      0      0   \n",
       "3            4.1                 -5.4  ...      0      0      0      0      0   \n",
       "4            4.0                 -5.8  ...      0      0      0      0      0   \n",
       "\n",
       "   pv+1h  pv+2h  pv+3h  pv+4h  pv+5h  \n",
       "0      0      0      0      0      0  \n",
       "1      0      0      0      0      0  \n",
       "2      0      0      0      0      0  \n",
       "3      0      0      0      0      0  \n",
       "4      0      0      0      0      5  \n",
       "\n",
       "[5 rows x 34 columns]"
      ]
     },
     "execution_count": 2,
     "metadata": {},
     "output_type": "execute_result"
    }
   ],
   "source": [
    "raw_dataset = pd.read_csv('pvprediction_yeongam.txt',sep=\"\\t\", header=0)\n",
    "raw_dataset.head()"
   ]
  },
  {
   "cell_type": "code",
   "execution_count": 3,
   "metadata": {},
   "outputs": [
    {
     "data": {
      "text/plain": [
       "(26280, 34)"
      ]
     },
     "execution_count": 3,
     "metadata": {},
     "output_type": "execute_result"
    }
   ],
   "source": [
    "raw_dataset.shape"
   ]
  },
  {
   "cell_type": "code",
   "execution_count": 4,
   "metadata": {},
   "outputs": [],
   "source": [
    "raw_dataset.drop(raw_dataset[raw_dataset.clock<9].index,inplace=True)\n",
    "raw_dataset.drop(raw_dataset[raw_dataset.clock>19].index,inplace=True)"
   ]
  },
  {
   "cell_type": "code",
   "execution_count": 5,
   "metadata": {},
   "outputs": [
    {
     "data": {
      "text/plain": [
       "(12045, 34)"
      ]
     },
     "execution_count": 5,
     "metadata": {},
     "output_type": "execute_result"
    }
   ],
   "source": [
    "raw_dataset.shape"
   ]
  },
  {
   "cell_type": "code",
   "execution_count": 6,
   "metadata": {},
   "outputs": [
    {
     "data": {
      "text/html": [
       "<div>\n",
       "<style scoped>\n",
       "    .dataframe tbody tr th:only-of-type {\n",
       "        vertical-align: middle;\n",
       "    }\n",
       "\n",
       "    .dataframe tbody tr th {\n",
       "        vertical-align: top;\n",
       "    }\n",
       "\n",
       "    .dataframe thead th {\n",
       "        text-align: right;\n",
       "    }\n",
       "</style>\n",
       "<table border=\"1\" class=\"dataframe\">\n",
       "  <thead>\n",
       "    <tr style=\"text-align: right;\">\n",
       "      <th></th>\n",
       "      <th>point</th>\n",
       "      <th>year</th>\n",
       "      <th>day365</th>\n",
       "      <th>clock</th>\n",
       "      <th>temp</th>\n",
       "      <th>windspeed</th>\n",
       "      <th>winddirection</th>\n",
       "      <th>humidity</th>\n",
       "      <th>vaporpressure</th>\n",
       "      <th>dewpointtemperature</th>\n",
       "      <th>...</th>\n",
       "      <th>pv-4h</th>\n",
       "      <th>pv-3h</th>\n",
       "      <th>pv-2h</th>\n",
       "      <th>pv-1h</th>\n",
       "      <th>pv+0h</th>\n",
       "      <th>pv+1h</th>\n",
       "      <th>pv+2h</th>\n",
       "      <th>pv+3h</th>\n",
       "      <th>pv+4h</th>\n",
       "      <th>pv+5h</th>\n",
       "    </tr>\n",
       "  </thead>\n",
       "  <tbody>\n",
       "    <tr>\n",
       "      <th>9</th>\n",
       "      <td>165</td>\n",
       "      <td>2015</td>\n",
       "      <td>1</td>\n",
       "      <td>9</td>\n",
       "      <td>-2.0</td>\n",
       "      <td>9.7</td>\n",
       "      <td>NaN</td>\n",
       "      <td>90.0</td>\n",
       "      <td>4.8</td>\n",
       "      <td>-3.4</td>\n",
       "      <td>...</td>\n",
       "      <td>0</td>\n",
       "      <td>0</td>\n",
       "      <td>0</td>\n",
       "      <td>0</td>\n",
       "      <td>5</td>\n",
       "      <td>139</td>\n",
       "      <td>732</td>\n",
       "      <td>590</td>\n",
       "      <td>787</td>\n",
       "      <td>327</td>\n",
       "    </tr>\n",
       "    <tr>\n",
       "      <th>10</th>\n",
       "      <td>165</td>\n",
       "      <td>2015</td>\n",
       "      <td>1</td>\n",
       "      <td>10</td>\n",
       "      <td>-0.9</td>\n",
       "      <td>10.9</td>\n",
       "      <td>NaN</td>\n",
       "      <td>78.0</td>\n",
       "      <td>4.5</td>\n",
       "      <td>-4.2</td>\n",
       "      <td>...</td>\n",
       "      <td>0</td>\n",
       "      <td>0</td>\n",
       "      <td>0</td>\n",
       "      <td>5</td>\n",
       "      <td>139</td>\n",
       "      <td>732</td>\n",
       "      <td>590</td>\n",
       "      <td>787</td>\n",
       "      <td>327</td>\n",
       "      <td>588</td>\n",
       "    </tr>\n",
       "    <tr>\n",
       "      <th>11</th>\n",
       "      <td>165</td>\n",
       "      <td>2015</td>\n",
       "      <td>1</td>\n",
       "      <td>11</td>\n",
       "      <td>-1.1</td>\n",
       "      <td>8.5</td>\n",
       "      <td>NaN</td>\n",
       "      <td>94.0</td>\n",
       "      <td>5.3</td>\n",
       "      <td>-1.9</td>\n",
       "      <td>...</td>\n",
       "      <td>0</td>\n",
       "      <td>0</td>\n",
       "      <td>5</td>\n",
       "      <td>139</td>\n",
       "      <td>732</td>\n",
       "      <td>590</td>\n",
       "      <td>787</td>\n",
       "      <td>327</td>\n",
       "      <td>588</td>\n",
       "      <td>226</td>\n",
       "    </tr>\n",
       "    <tr>\n",
       "      <th>12</th>\n",
       "      <td>165</td>\n",
       "      <td>2015</td>\n",
       "      <td>1</td>\n",
       "      <td>12</td>\n",
       "      <td>-0.7</td>\n",
       "      <td>9.7</td>\n",
       "      <td>NaN</td>\n",
       "      <td>79.0</td>\n",
       "      <td>4.6</td>\n",
       "      <td>-3.8</td>\n",
       "      <td>...</td>\n",
       "      <td>0</td>\n",
       "      <td>5</td>\n",
       "      <td>139</td>\n",
       "      <td>732</td>\n",
       "      <td>590</td>\n",
       "      <td>787</td>\n",
       "      <td>327</td>\n",
       "      <td>588</td>\n",
       "      <td>226</td>\n",
       "      <td>69</td>\n",
       "    </tr>\n",
       "    <tr>\n",
       "      <th>13</th>\n",
       "      <td>165</td>\n",
       "      <td>2015</td>\n",
       "      <td>1</td>\n",
       "      <td>13</td>\n",
       "      <td>-1.6</td>\n",
       "      <td>9.6</td>\n",
       "      <td>NaN</td>\n",
       "      <td>94.0</td>\n",
       "      <td>5.1</td>\n",
       "      <td>-2.4</td>\n",
       "      <td>...</td>\n",
       "      <td>5</td>\n",
       "      <td>139</td>\n",
       "      <td>732</td>\n",
       "      <td>590</td>\n",
       "      <td>787</td>\n",
       "      <td>327</td>\n",
       "      <td>588</td>\n",
       "      <td>226</td>\n",
       "      <td>69</td>\n",
       "      <td>3</td>\n",
       "    </tr>\n",
       "  </tbody>\n",
       "</table>\n",
       "<p>5 rows × 34 columns</p>\n",
       "</div>"
      ],
      "text/plain": [
       "    point  year  day365  clock  temp  windspeed  winddirection  humidity  \\\n",
       "9     165  2015       1      9  -2.0        9.7            NaN      90.0   \n",
       "10    165  2015       1     10  -0.9       10.9            NaN      78.0   \n",
       "11    165  2015       1     11  -1.1        8.5            NaN      94.0   \n",
       "12    165  2015       1     12  -0.7        9.7            NaN      79.0   \n",
       "13    165  2015       1     13  -1.6        9.6            NaN      94.0   \n",
       "\n",
       "    vaporpressure  dewpointtemperature  ...  pv-4h  pv-3h  pv-2h  pv-1h  \\\n",
       "9             4.8                 -3.4  ...      0      0      0      0   \n",
       "10            4.5                 -4.2  ...      0      0      0      5   \n",
       "11            5.3                 -1.9  ...      0      0      5    139   \n",
       "12            4.6                 -3.8  ...      0      5    139    732   \n",
       "13            5.1                 -2.4  ...      5    139    732    590   \n",
       "\n",
       "    pv+0h  pv+1h  pv+2h  pv+3h  pv+4h  pv+5h  \n",
       "9       5    139    732    590    787    327  \n",
       "10    139    732    590    787    327    588  \n",
       "11    732    590    787    327    588    226  \n",
       "12    590    787    327    588    226     69  \n",
       "13    787    327    588    226     69      3  \n",
       "\n",
       "[5 rows x 34 columns]"
      ]
     },
     "execution_count": 6,
     "metadata": {},
     "output_type": "execute_result"
    }
   ],
   "source": [
    "raw_dataset.head()"
   ]
  },
  {
   "cell_type": "code",
   "execution_count": 7,
   "metadata": {},
   "outputs": [
    {
     "data": {
      "text/html": [
       "<div>\n",
       "<style scoped>\n",
       "    .dataframe tbody tr th:only-of-type {\n",
       "        vertical-align: middle;\n",
       "    }\n",
       "\n",
       "    .dataframe tbody tr th {\n",
       "        vertical-align: top;\n",
       "    }\n",
       "\n",
       "    .dataframe thead th {\n",
       "        text-align: right;\n",
       "    }\n",
       "</style>\n",
       "<table border=\"1\" class=\"dataframe\">\n",
       "  <thead>\n",
       "    <tr style=\"text-align: right;\">\n",
       "      <th></th>\n",
       "      <th>day365</th>\n",
       "      <th>clock</th>\n",
       "      <th>pv-1h</th>\n",
       "      <th>pv+0h</th>\n",
       "      <th>pv+2h</th>\n",
       "    </tr>\n",
       "  </thead>\n",
       "  <tbody>\n",
       "    <tr>\n",
       "      <th>26271</th>\n",
       "      <td>365</td>\n",
       "      <td>15</td>\n",
       "      <td>707</td>\n",
       "      <td>526</td>\n",
       "      <td>74</td>\n",
       "    </tr>\n",
       "    <tr>\n",
       "      <th>26272</th>\n",
       "      <td>365</td>\n",
       "      <td>16</td>\n",
       "      <td>526</td>\n",
       "      <td>316</td>\n",
       "      <td>8</td>\n",
       "    </tr>\n",
       "    <tr>\n",
       "      <th>26273</th>\n",
       "      <td>365</td>\n",
       "      <td>17</td>\n",
       "      <td>316</td>\n",
       "      <td>74</td>\n",
       "      <td>0</td>\n",
       "    </tr>\n",
       "    <tr>\n",
       "      <th>26274</th>\n",
       "      <td>365</td>\n",
       "      <td>18</td>\n",
       "      <td>74</td>\n",
       "      <td>8</td>\n",
       "      <td>0</td>\n",
       "    </tr>\n",
       "    <tr>\n",
       "      <th>26275</th>\n",
       "      <td>365</td>\n",
       "      <td>19</td>\n",
       "      <td>8</td>\n",
       "      <td>0</td>\n",
       "      <td>0</td>\n",
       "    </tr>\n",
       "  </tbody>\n",
       "</table>\n",
       "</div>"
      ],
      "text/plain": [
       "       day365  clock  pv-1h  pv+0h  pv+2h\n",
       "26271     365     15    707    526     74\n",
       "26272     365     16    526    316      8\n",
       "26273     365     17    316     74      0\n",
       "26274     365     18     74      8      0\n",
       "26275     365     19      8      0      0"
      ]
     },
     "execution_count": 7,
     "metadata": {},
     "output_type": "execute_result"
    }
   ],
   "source": [
    "fields_to_drop = ['windspeed','cloud','lowcloud','pv-2h','pv+1h','pv+5h','pv+3h','pv+4h','point','year','sunshine','locarpressure','temp','irradiation','lst','snow','pv-3h','winddirection','humidity','vaporpressure','dewpointtemperature','seasurfacepressure','sijung','temp5cm','temp10cm','temp20','temp30cm','pv-5h','pv-4h']\n",
    "\n",
    "data = raw_dataset.drop(fields_to_drop, axis=1)\n",
    "data.head()\n",
    "\n",
    "dataset = data.copy()\n",
    "dataset.tail()"
   ]
  },
  {
   "cell_type": "code",
   "execution_count": 8,
   "metadata": {},
   "outputs": [
    {
     "data": {
      "text/plain": [
       "(12045, 5)"
      ]
     },
     "execution_count": 8,
     "metadata": {},
     "output_type": "execute_result"
    }
   ],
   "source": [
    "dataset.shape"
   ]
  },
  {
   "cell_type": "code",
   "execution_count": 9,
   "metadata": {},
   "outputs": [],
   "source": [
    "dataset=dataset.dropna()"
   ]
  },
  {
   "cell_type": "code",
   "execution_count": 10,
   "metadata": {},
   "outputs": [],
   "source": [
    "quant_features = ['day365','clock','pv-1h','pv+0h','pv+2h']\n",
    "\n",
    "scaled_features = {}\n",
    "\n",
    "#for each in quant_features:\n",
    "#    mean, std = data[each].mean(), data[each].std()\n",
    "#    scaled_features[each] = [mean, std]\n",
    "#    data.loc[:, each] = (data[each] - mean)/std\n",
    "\n",
    "for each in quant_features:\n",
    "    maxx, minn = dataset[each].max(), dataset[each].min()\n",
    "    scaled_features[each] = [maxx, minn]\n",
    "    dataset.loc[:, each] = (dataset[each] - minn)/(maxx-minn)"
   ]
  },
  {
   "cell_type": "code",
   "execution_count": 11,
   "metadata": {},
   "outputs": [
    {
     "data": {
      "text/plain": [
       "(12045, 5)"
      ]
     },
     "execution_count": 11,
     "metadata": {},
     "output_type": "execute_result"
    }
   ],
   "source": [
    "dataset.shape"
   ]
  },
  {
   "cell_type": "code",
   "execution_count": 12,
   "metadata": {
    "scrolled": true
   },
   "outputs": [],
   "source": [
    "train_dataset = dataset.sample(frac=0.975,random_state=0)\n",
    "test_dataset = dataset.drop(train_dataset.index)\n",
    "\n",
    "\n",
    "train_labels = train_dataset.pop('pv+2h')\n",
    "test_labels = test_dataset.pop('pv+2h')"
   ]
  },
  {
   "cell_type": "code",
   "execution_count": 13,
   "metadata": {},
   "outputs": [
    {
     "data": {
      "text/html": [
       "<div>\n",
       "<style scoped>\n",
       "    .dataframe tbody tr th:only-of-type {\n",
       "        vertical-align: middle;\n",
       "    }\n",
       "\n",
       "    .dataframe tbody tr th {\n",
       "        vertical-align: top;\n",
       "    }\n",
       "\n",
       "    .dataframe thead th {\n",
       "        text-align: right;\n",
       "    }\n",
       "</style>\n",
       "<table border=\"1\" class=\"dataframe\">\n",
       "  <thead>\n",
       "    <tr style=\"text-align: right;\">\n",
       "      <th></th>\n",
       "      <th>day365</th>\n",
       "      <th>clock</th>\n",
       "      <th>pv-1h</th>\n",
       "      <th>pv+0h</th>\n",
       "    </tr>\n",
       "  </thead>\n",
       "  <tbody>\n",
       "    <tr>\n",
       "      <th>2390</th>\n",
       "      <td>0.271978</td>\n",
       "      <td>0.5</td>\n",
       "      <td>0.857536</td>\n",
       "      <td>0.837577</td>\n",
       "    </tr>\n",
       "    <tr>\n",
       "      <th>12828</th>\n",
       "      <td>0.464286</td>\n",
       "      <td>0.3</td>\n",
       "      <td>0.454921</td>\n",
       "      <td>0.600138</td>\n",
       "    </tr>\n",
       "    <tr>\n",
       "      <th>16022</th>\n",
       "      <td>0.829670</td>\n",
       "      <td>0.5</td>\n",
       "      <td>0.884377</td>\n",
       "      <td>0.808672</td>\n",
       "    </tr>\n",
       "    <tr>\n",
       "      <th>24161</th>\n",
       "      <td>0.758242</td>\n",
       "      <td>0.8</td>\n",
       "      <td>0.392292</td>\n",
       "      <td>0.140399</td>\n",
       "    </tr>\n",
       "    <tr>\n",
       "      <th>14657</th>\n",
       "      <td>0.673077</td>\n",
       "      <td>0.8</td>\n",
       "      <td>0.525809</td>\n",
       "      <td>0.344116</td>\n",
       "    </tr>\n",
       "  </tbody>\n",
       "</table>\n",
       "</div>"
      ],
      "text/plain": [
       "         day365  clock     pv-1h     pv+0h\n",
       "2390   0.271978    0.5  0.857536  0.837577\n",
       "12828  0.464286    0.3  0.454921  0.600138\n",
       "16022  0.829670    0.5  0.884377  0.808672\n",
       "24161  0.758242    0.8  0.392292  0.140399\n",
       "14657  0.673077    0.8  0.525809  0.344116"
      ]
     },
     "execution_count": 13,
     "metadata": {},
     "output_type": "execute_result"
    }
   ],
   "source": [
    "train_dataset.head()"
   ]
  },
  {
   "cell_type": "code",
   "execution_count": 14,
   "metadata": {},
   "outputs": [
    {
     "name": "stdout",
     "output_type": "stream",
     "text": [
      "WARNING:tensorflow:From C:\\Users\\Hunsoo\\Anaconda3\\lib\\site-packages\\tensorflow\\python\\ops\\resource_variable_ops.py:435: colocate_with (from tensorflow.python.framework.ops) is deprecated and will be removed in a future version.\n",
      "Instructions for updating:\n",
      "Colocations handled automatically by placer.\n",
      "WARNING:tensorflow:From C:\\Users\\Hunsoo\\Anaconda3\\lib\\site-packages\\tensorflow\\python\\keras\\utils\\losses_utils.py:170: to_float (from tensorflow.python.ops.math_ops) is deprecated and will be removed in a future version.\n",
      "Instructions for updating:\n",
      "Use tf.cast instead.\n"
     ]
    }
   ],
   "source": [
    "def build_model():\n",
    "  model = keras.Sequential([\n",
    "    layers.Dense(64, activation=tf.nn.relu, input_shape=[dataset.shape[1]-1]),\n",
    "    layers.Dense(64, activation=tf.nn.relu),\n",
    "    layers.Dense(1)\n",
    "  ])\n",
    "\n",
    "  optimizer = tf.keras.optimizers.RMSprop(0.001)\n",
    "\n",
    "  model.compile(loss='mean_squared_error',\n",
    "                optimizer=optimizer,\n",
    "                metrics=['mean_absolute_error', 'mean_squared_error'])\n",
    "  return model\n",
    "\n",
    "model = build_model()"
   ]
  },
  {
   "cell_type": "code",
   "execution_count": 15,
   "metadata": {
    "scrolled": true
   },
   "outputs": [
    {
     "name": "stdout",
     "output_type": "stream",
     "text": [
      "WARNING:tensorflow:From C:\\Users\\Hunsoo\\Anaconda3\\lib\\site-packages\\tensorflow\\python\\ops\\math_ops.py:3066: to_int32 (from tensorflow.python.ops.math_ops) is deprecated and will be removed in a future version.\n",
      "Instructions for updating:\n",
      "Use tf.cast instead.\n",
      "\n",
      ".\n",
      ".\n",
      ".\n",
      ".\n",
      ".\n",
      ".\n",
      ".\n",
      ".\n",
      ".\n",
      ".\n",
      ".\n",
      ".\n",
      ".\n",
      ".\n",
      ".\n",
      ".\n",
      ".\n",
      ".\n",
      ".\n",
      ".\n",
      ".\n",
      ".\n",
      ".\n",
      ".\n",
      ".\n",
      ".\n",
      ".\n",
      ".\n",
      ".\n",
      ".\n",
      ".\n",
      ".\n",
      ".\n",
      ".\n",
      ".\n",
      ".\n",
      ".\n",
      ".\n",
      ".\n",
      ".\n",
      ".\n",
      ".\n",
      ".\n",
      ".\n",
      ".\n",
      ".\n",
      ".\n",
      "."
     ]
    }
   ],
   "source": [
    "# 에포크가 끝날 때마다 점(.)을 출력해 훈련 진행 과정을 표시합니다\n",
    "class PrintDot(keras.callbacks.Callback):\n",
    "  def on_epoch_end(self, epoch, logs):\n",
    "    if epoch % 1 == 0: print('')\n",
    "    print('.', end='')\n",
    "\n",
    "EPOCHS = 100\n",
    "\n",
    "early_stop = keras.callbacks.EarlyStopping(monitor='val_loss', patience=15)\n",
    "\n",
    "history = model.fit(train_dataset, train_labels, epochs=EPOCHS,\n",
    "                    validation_split = 0.2, verbose=0, callbacks=[early_stop, PrintDot()])\n"
   ]
  },
  {
   "cell_type": "code",
   "execution_count": 16,
   "metadata": {},
   "outputs": [
    {
     "data": {
      "text/html": [
       "<div>\n",
       "<style scoped>\n",
       "    .dataframe tbody tr th:only-of-type {\n",
       "        vertical-align: middle;\n",
       "    }\n",
       "\n",
       "    .dataframe tbody tr th {\n",
       "        vertical-align: top;\n",
       "    }\n",
       "\n",
       "    .dataframe thead th {\n",
       "        text-align: right;\n",
       "    }\n",
       "</style>\n",
       "<table border=\"1\" class=\"dataframe\">\n",
       "  <thead>\n",
       "    <tr style=\"text-align: right;\">\n",
       "      <th></th>\n",
       "      <th>loss</th>\n",
       "      <th>mean_absolute_error</th>\n",
       "      <th>mean_squared_error</th>\n",
       "      <th>val_loss</th>\n",
       "      <th>val_mean_absolute_error</th>\n",
       "      <th>val_mean_squared_error</th>\n",
       "      <th>epoch</th>\n",
       "    </tr>\n",
       "  </thead>\n",
       "  <tbody>\n",
       "    <tr>\n",
       "      <th>43</th>\n",
       "      <td>0.011336</td>\n",
       "      <td>0.066440</td>\n",
       "      <td>0.011336</td>\n",
       "      <td>0.012278</td>\n",
       "      <td>0.067072</td>\n",
       "      <td>0.012278</td>\n",
       "      <td>43</td>\n",
       "    </tr>\n",
       "    <tr>\n",
       "      <th>44</th>\n",
       "      <td>0.011273</td>\n",
       "      <td>0.066135</td>\n",
       "      <td>0.011273</td>\n",
       "      <td>0.011760</td>\n",
       "      <td>0.066503</td>\n",
       "      <td>0.011760</td>\n",
       "      <td>44</td>\n",
       "    </tr>\n",
       "    <tr>\n",
       "      <th>45</th>\n",
       "      <td>0.011297</td>\n",
       "      <td>0.066583</td>\n",
       "      <td>0.011297</td>\n",
       "      <td>0.012016</td>\n",
       "      <td>0.067765</td>\n",
       "      <td>0.012016</td>\n",
       "      <td>45</td>\n",
       "    </tr>\n",
       "    <tr>\n",
       "      <th>46</th>\n",
       "      <td>0.011260</td>\n",
       "      <td>0.066140</td>\n",
       "      <td>0.011260</td>\n",
       "      <td>0.011801</td>\n",
       "      <td>0.065863</td>\n",
       "      <td>0.011801</td>\n",
       "      <td>46</td>\n",
       "    </tr>\n",
       "    <tr>\n",
       "      <th>47</th>\n",
       "      <td>0.011210</td>\n",
       "      <td>0.066097</td>\n",
       "      <td>0.011210</td>\n",
       "      <td>0.012266</td>\n",
       "      <td>0.067931</td>\n",
       "      <td>0.012266</td>\n",
       "      <td>47</td>\n",
       "    </tr>\n",
       "  </tbody>\n",
       "</table>\n",
       "</div>"
      ],
      "text/plain": [
       "        loss  mean_absolute_error  mean_squared_error  val_loss  \\\n",
       "43  0.011336             0.066440            0.011336  0.012278   \n",
       "44  0.011273             0.066135            0.011273  0.011760   \n",
       "45  0.011297             0.066583            0.011297  0.012016   \n",
       "46  0.011260             0.066140            0.011260  0.011801   \n",
       "47  0.011210             0.066097            0.011210  0.012266   \n",
       "\n",
       "    val_mean_absolute_error  val_mean_squared_error  epoch  \n",
       "43                 0.067072                0.012278     43  \n",
       "44                 0.066503                0.011760     44  \n",
       "45                 0.067765                0.012016     45  \n",
       "46                 0.065863                0.011801     46  \n",
       "47                 0.067931                0.012266     47  "
      ]
     },
     "execution_count": 16,
     "metadata": {},
     "output_type": "execute_result"
    }
   ],
   "source": [
    "hist = pd.DataFrame(history.history)\n",
    "hist['epoch'] = history.epoch\n",
    "hist.tail()"
   ]
  },
  {
   "cell_type": "code",
   "execution_count": 17,
   "metadata": {},
   "outputs": [
    {
     "data": {
      "image/png": "[encoded data removed]",
      "text/plain": [
       "<Figure size 576x864 with 2 Axes>"
      ]
     },
     "metadata": {
      "needs_background": "light"
     },
     "output_type": "display_data"
    }
   ],
   "source": [
    "import matplotlib.pyplot as plt\n",
    "\n",
    "def plot_history(history):\n",
    "  hist = pd.DataFrame(history.history)\n",
    "  hist['epoch'] = history.epoch\n",
    "  \n",
    "  plt.figure(figsize=(8,12))\n",
    "  \n",
    "  plt.subplot(2,1,1)\n",
    "  plt.xlabel('Epoch')\n",
    "  plt.ylabel('Mean Abs Error [pv+2h]')\n",
    "  plt.plot(hist['epoch'], hist['mean_absolute_error'],\n",
    "           label='Train Error')\n",
    "  plt.plot(hist['epoch'], hist['val_mean_absolute_error'],\n",
    "           label = 'Val Error')\n",
    "  plt.ylim([0,0.5])\n",
    "  plt.legend()\n",
    "  \n",
    "  plt.subplot(2,1,2)\n",
    "  plt.xlabel('Epoch')\n",
    "  plt.ylabel('Mean Square Error [$pv+2h^2$]')\n",
    "  plt.plot(hist['epoch'], hist['mean_squared_error'],\n",
    "           label='Train Error')\n",
    "  plt.plot(hist['epoch'], hist['val_mean_squared_error'],\n",
    "           label = 'Val Error')\n",
    "  plt.ylim([0,0.05])\n",
    "  plt.legend()\n",
    "  plt.show()\n",
    "\n",
    "plot_history(history)"
   ]
  },
  {
   "cell_type": "code",
   "execution_count": 18,
   "metadata": {},
   "outputs": [
    {
     "name": "stdout",
     "output_type": "stream",
     "text": [
      "테스트 세트의 평균 절대 오차:  0.07 pv+2h\n"
     ]
    }
   ],
   "source": [
    "loss, mae, mse = model.evaluate(test_dataset, test_labels, verbose=0)\n",
    "\n",
    "print(\"테스트 세트의 평균 절대 오차: {:5.2f} pv+2h\".format(mae))"
   ]
  },
  {
   "cell_type": "code",
   "execution_count": 19,
   "metadata": {},
   "outputs": [
    {
     "data": {
      "image/png": "[encoded data removed]",
      "text/plain": [
       "<Figure size 432x288 with 1 Axes>"
      ]
     },
     "metadata": {
      "needs_background": "light"
     },
     "output_type": "display_data"
    }
   ],
   "source": [
    "test_predictions = model.predict(test_dataset).flatten()\n",
    "\n",
    "plt.scatter(test_labels, test_predictions)\n",
    "plt.xlabel('True Values [pv+2h]')\n",
    "plt.ylabel('Predictions [pv+2h]')\n",
    "plt.axis('equal')\n",
    "plt.axis('square')\n",
    "plt.xlim([0,plt.xlim()[1]])\n",
    "plt.ylim([0,plt.ylim()[1]])\n",
    "_ = plt.plot([-100, 5000], [-100, 5000])"
   ]
  },
  {
   "cell_type": "code",
   "execution_count": 20,
   "metadata": {},
   "outputs": [
    {
     "data": {
      "image/png": "[encoded data removed]",
      "text/plain": [
       "<Figure size 432x288 with 1 Axes>"
      ]
     },
     "metadata": {
      "needs_background": "light"
     },
     "output_type": "display_data"
    }
   ],
   "source": [
    "error = test_predictions - test_labels\n",
    "plt.hist(error, bins = 25)\n",
    "plt.xlabel(\"Prediction Error [pv+2h]\")\n",
    "_ = plt.ylabel(\"Count\")"
   ]
  },
  {
   "cell_type": "code",
   "execution_count": 21,
   "metadata": {},
   "outputs": [],
   "source": [
    "array_test_labels=pd.Series(test_labels).values\n",
    "array_test_predictions=pd.Series(test_predictions).values"
   ]
  },
  {
   "cell_type": "code",
   "execution_count": 22,
   "metadata": {},
   "outputs": [
    {
     "name": "stdout",
     "output_type": "stream",
     "text": [
      "Final rmse value is = 0.11924893623888609\n"
     ]
    }
   ],
   "source": [
    "rss=((array_test_labels-array_test_predictions)**2).sum()\n",
    "mse=np.mean((array_test_labels-array_test_predictions)**2)\n",
    "print(\"Final rmse value is =\",np.sqrt(np.mean((array_test_labels-array_test_predictions)**2)))"
   ]
  },
  {
   "cell_type": "code",
   "execution_count": 23,
   "metadata": {},
   "outputs": [
    {
     "name": "stdout",
     "output_type": "stream",
     "text": [
      "[[1.         0.91910607]\n",
      " [0.91910607 1.        ]]\n"
     ]
    }
   ],
   "source": [
    "print(np.corrcoef(array_test_labels,array_test_predictions))"
   ]
  },
  {
   "cell_type": "code",
   "execution_count": 24,
   "metadata": {},
   "outputs": [
    {
     "name": "stderr",
     "output_type": "stream",
     "text": [
      "C:\\Users\\Hunsoo\\Anaconda3\\lib\\site-packages\\ipykernel_launcher.py:3: RuntimeWarning: divide by zero encountered in true_divide\n",
      "  This is separate from the ipykernel package so we can avoid doing imports until\n"
     ]
    },
    {
     "data": {
      "text/plain": [
       "1.1559299639461216"
      ]
     },
     "execution_count": 24,
     "metadata": {},
     "output_type": "execute_result"
    }
   ],
   "source": [
    "def mape_vectorized_v2(a, b): \n",
    "    mask = a != 0\n",
    "    return (np.fabs(a - b)/a)[mask].mean()\n",
    "\n",
    "mape_vectorized_v2(array_test_labels,array_test_predictions)"
   ]
  },
  {
   "cell_type": "code",
   "execution_count": 25,
   "metadata": {},
   "outputs": [
    {
     "data": {
      "text/plain": [
       "1.0"
      ]
     },
     "execution_count": 25,
     "metadata": {},
     "output_type": "execute_result"
    }
   ],
   "source": [
    "max(test_labels)"
   ]
  },
  {
   "cell_type": "code",
   "execution_count": 26,
   "metadata": {},
   "outputs": [
    {
     "data": {
      "text/plain": [
       "0.010127492649714766"
      ]
     },
     "execution_count": 26,
     "metadata": {},
     "output_type": "execute_result"
    }
   ],
   "source": [
    "def nmae(a, b, c): \n",
    "    mask = a != 0\n",
    "    return (np.fabs(a - b)/max(c)/9)[mask].mean()\n",
    "\n",
    "nmae(array_test_labels,array_test_predictions,test_labels)"
   ]
  },
  {
   "cell_type": "code",
   "execution_count": 27,
   "metadata": {},
   "outputs": [
    {
     "data": {
      "text/plain": [
       "0.008068224159310385"
      ]
     },
     "execution_count": 27,
     "metadata": {},
     "output_type": "execute_result"
    }
   ],
   "source": [
    "def nmae_wo_mask(a, b, c): \n",
    "    return (np.fabs(a - b)/max(c)/9).mean()\n",
    "\n",
    "nmae_wo_mask(array_test_labels,array_test_predictions,test_labels)"
   ]
  },
  {
   "cell_type": "code",
   "execution_count": 28,
   "metadata": {},
   "outputs": [
    {
     "name": "stdout",
     "output_type": "stream",
     "text": [
      "0.11924893623888609\n"
     ]
    }
   ],
   "source": [
    "from sklearn.metrics import mean_squared_error\n",
    "from math import sqrt\n",
    "\n",
    "rms = sqrt(mean_squared_error(array_test_labels, array_test_predictions))\n",
    "print(rms)"
   ]
  },
  {
   "cell_type": "code",
   "execution_count": 26,
   "metadata": {
    "scrolled": true
   },
   "outputs": [
    {
     "data": {
      "text/plain": [
       "array([0.00000000e+00, 9.15347557e-02, 1.23881624e-02, 8.10048176e-01,\n",
       "       5.98072953e-01, 2.22986924e-01, 9.77288369e-02, 5.54026153e-01,\n",
       "       1.14246387e-01, 5.17549897e-01, 1.17687543e-01, 2.13351686e-01,\n",
       "       8.09359945e-01, 5.23743978e-01, 7.06813489e-01, 6.53131452e-01,\n",
       "       0.00000000e+00, 3.02133517e-01, 3.24845148e-01, 9.63523744e-03,\n",
       "       7.51548520e-01, 8.70612526e-01, 7.92842395e-01, 1.17687543e-01,\n",
       "       1.35581555e-01, 4.12250516e-01, 7.13007571e-01, 8.12112870e-01,\n",
       "       8.21059876e-01, 8.07983482e-01, 6.66896077e-01, 2.72539573e-01,\n",
       "       2.27804542e-01, 6.88231246e-04, 3.64762560e-02, 6.22161046e-01,\n",
       "       1.08740537e-01, 2.31933930e-01, 8.25877495e-02, 4.37715072e-01,\n",
       "       6.48313833e-01, 1.03922918e-01, 2.78045423e-01, 3.51686167e-01,\n",
       "       6.12525809e-01, 7.74260151e-01, 4.41156228e-01, 4.10185822e-01,\n",
       "       4.12938747e-03, 4.66620785e-01, 2.47763248e-01, 8.05230557e-02,\n",
       "       7.03372333e-01, 0.00000000e+00, 8.36200964e-01, 2.28492774e-01,\n",
       "       3.50997935e-02, 1.77563661e-01, 5.59532003e-01, 1.03922918e-01,\n",
       "       1.52099105e-01, 0.00000000e+00, 6.57949071e-01, 0.00000000e+00,\n",
       "       2.47763248e-02, 0.00000000e+00, 7.54301445e-01, 7.94218858e-01,\n",
       "       2.60839642e-01, 6.79284240e-01, 2.40192705e-01, 5.73984859e-01,\n",
       "       2.97315898e-01, 0.00000000e+00, 0.00000000e+00, 0.00000000e+00,\n",
       "       6.26290434e-02, 8.25877495e-03, 8.25877495e-03, 6.19408121e-03,\n",
       "       3.35168617e-01, 1.58293187e-02, 8.53406745e-02, 3.44115623e-03,\n",
       "       8.17618720e-01, 2.75292498e-03, 0.00000000e+00, 1.34893324e-01,\n",
       "       0.00000000e+00, 6.97178252e-01, 0.00000000e+00, 3.41362698e-01,\n",
       "       2.33998624e-02, 8.60289057e-02, 6.43496215e-01, 6.39366827e-01,\n",
       "       6.08396421e-01, 7.08878183e-01, 4.88644184e-02, 0.00000000e+00,\n",
       "       1.52099105e-01, 4.96214728e-01, 0.00000000e+00, 8.51342051e-01,\n",
       "       1.64487268e-01, 8.07983482e-01, 4.53544391e-01, 6.51754990e-01,\n",
       "       1.98898830e-01, 2.29869236e-01, 4.26703372e-01, 6.88231246e-04,\n",
       "       4.62491397e-01, 6.82725396e-01, 6.68272540e-01, 7.46730902e-01,\n",
       "       4.95526497e-01, 2.82174811e-02, 1.10116999e-02, 6.28355127e-01,\n",
       "       3.59944942e-01, 5.43702684e-02, 8.25877495e-03, 6.84101858e-01,\n",
       "       1.85822436e-02, 9.63523744e-02, 2.75292498e-03, 3.44115623e-01,\n",
       "       8.14177564e-01, 4.28768066e-01, 3.11080523e-01, 2.00963524e-01,\n",
       "       3.26221610e-01, 1.46593255e-01, 4.39091535e-01, 6.74466621e-02,\n",
       "       6.33172746e-02, 7.36407433e-01, 7.61871989e-01, 5.53337922e-01,\n",
       "       4.67309016e-01, 6.81348933e-01, 8.65794907e-01, 6.95113558e-02,\n",
       "       1.27322780e-01, 7.74260151e-01, 0.00000000e+00, 3.76462491e-01,\n",
       "       3.02821748e-01, 2.61527873e-02, 3.23468685e-02, 5.24432209e-01,\n",
       "       0.00000000e+00, 8.84377151e-01, 5.34067447e-01, 1.10116999e-02,\n",
       "       6.79284240e-01, 0.00000000e+00, 6.39366827e-01, 0.00000000e+00,\n",
       "       4.88644184e-02, 0.00000000e+00, 8.74053682e-02, 2.82174811e-02,\n",
       "       9.29112182e-02, 2.06469374e-03, 0.00000000e+00, 4.55609085e-01,\n",
       "       4.74879560e-02, 3.02821748e-02, 7.96971783e-01, 8.80247763e-01,\n",
       "       7.47419133e-01, 2.06469374e-03, 8.25877495e-03, 3.35856848e-01,\n",
       "       1.85822436e-02, 3.71644873e-01, 5.71920165e-01, 3.28974535e-01,\n",
       "       3.22092223e-01, 4.50103235e-01, 2.22986924e-01, 3.26221610e-01,\n",
       "       5.58155540e-01, 1.45216793e-01, 2.06469374e-03, 9.82794219e-01,\n",
       "       1.75498968e-01, 4.84514797e-01, 8.86441844e-01, 4.11562285e-01,\n",
       "       8.22436339e-01, 0.00000000e+00, 7.85271851e-01, 4.55609085e-01,\n",
       "       3.06951136e-01, 7.50860289e-01, 8.74053682e-01, 8.78183070e-01,\n",
       "       7.91465933e-02, 8.21748107e-01, 4.87955953e-01, 5.37508603e-01,\n",
       "       5.86373021e-01, 6.99931177e-01, 2.96627667e-01, 3.92291810e-01,\n",
       "       6.19408121e-03, 1.16311081e-01, 2.77357192e-01, 5.18926359e-01,\n",
       "       2.11975224e-01, 3.50997935e-01, 6.99242946e-01, 5.23055747e-01,\n",
       "       3.48933242e-01, 3.73021335e-01, 6.88919477e-01, 2.38128011e-01,\n",
       "       8.05230557e-02, 4.99655884e-01, 7.26772195e-01, 1.52787337e-01,\n",
       "       4.22573985e-01, 2.26428080e-01, 4.99655884e-01, 7.91465933e-02,\n",
       "       7.43977977e-01, 4.45973847e-01, 7.76324845e-01, 5.50584997e-03,\n",
       "       2.17481074e-01, 0.00000000e+00, 2.90433586e-01, 6.88231246e-04,\n",
       "       7.77701308e-01, 3.50997935e-02, 2.00963524e-01, 0.00000000e+00,\n",
       "       8.07983482e-01, 0.00000000e+00, 1.76187199e-01, 3.30350998e-02,\n",
       "       0.00000000e+00, 0.00000000e+00])"
      ]
     },
     "execution_count": 26,
     "metadata": {},
     "output_type": "execute_result"
    }
   ],
   "source": [
    "array_test_labels"
   ]
  },
  {
   "cell_type": "code",
   "execution_count": 27,
   "metadata": {
    "scrolled": true
   },
   "outputs": [
    {
     "data": {
      "text/plain": [
       "array([-1.1281945e-02,  2.9703327e-02,  1.1796646e-02,  7.9842621e-01,\n",
       "        4.4219235e-01,  3.0985475e-01,  8.3996445e-02,  5.7451385e-01,\n",
       "        9.1204472e-02,  5.7002388e-02,  9.4653249e-02,  2.3943561e-01,\n",
       "        8.5822296e-01,  7.4853909e-01,  7.2504073e-01,  6.7397225e-01,\n",
       "       -5.1335171e-03,  3.2431069e-01,  3.6204129e-01,  2.4396703e-02,\n",
       "        7.4646848e-01,  8.8187164e-01,  8.1968278e-01,  2.4876797e-01,\n",
       "        8.6383894e-02,  4.1188040e-01,  2.7750227e-01,  8.1589097e-01,\n",
       "        7.7827168e-01,  7.4971831e-01,  2.7260655e-01,  6.2732846e-01,\n",
       "        3.8161680e-01, -1.1789642e-02,  2.9066853e-02,  5.2149481e-01,\n",
       "        8.4123194e-02,  3.3119804e-01,  4.7692724e-02,  3.6668193e-01,\n",
       "        5.0001848e-01,  1.8214144e-01,  2.8395474e-01,  4.8693016e-01,\n",
       "        3.1014875e-01,  7.0637774e-01,  3.3361477e-01,  3.3363798e-01,\n",
       "       -1.7582975e-02,  4.5032433e-01,  2.9162714e-01,  7.4552760e-02,\n",
       "        5.6253529e-01, -1.7686568e-02,  7.6282936e-01,  2.4353948e-01,\n",
       "        3.2292441e-02,  5.5358005e-01,  2.3536311e-01,  7.0782557e-02,\n",
       "        1.9179040e-01, -2.3999654e-02,  6.0306454e-01, -2.2584312e-02,\n",
       "        5.2599244e-02, -1.1788271e-02,  6.2503904e-01,  3.9768326e-01,\n",
       "        2.8339091e-01,  4.4860807e-01,  1.9436163e-01,  5.5307412e-01,\n",
       "        3.1897944e-01, -6.7211464e-03, -1.9913860e-02, -2.0374350e-02,\n",
       "        1.4922324e-01,  5.8158338e-02,  5.3115837e-02, -5.7035163e-03,\n",
       "        3.9686862e-01, -7.7196732e-03,  2.4612623e-01, -1.5716277e-02,\n",
       "        5.8639020e-01, -1.8847190e-02, -1.9070707e-02,  4.1471156e-01,\n",
       "       -2.1156915e-02,  6.4886403e-01, -2.0283870e-02,  3.4795976e-01,\n",
       "        1.4647841e-02,  4.2921893e-02,  5.5459970e-01,  6.4282185e-01,\n",
       "        6.6631091e-01,  8.6915219e-01,  3.3151326e-01, -2.8712742e-02,\n",
       "        1.4068288e-01,  5.2000171e-01, -1.7096408e-02,  7.9745954e-01,\n",
       "        1.7495151e-01,  7.8127694e-01,  4.6116433e-01,  6.2920082e-01,\n",
       "        1.8825169e-01,  2.5014961e-01,  3.7212849e-01, -2.3231581e-03,\n",
       "        5.4065460e-01,  7.2289592e-01,  6.6848809e-01,  7.7271694e-01,\n",
       "        3.9707354e-01,  6.9499865e-02,  1.1473045e-02,  4.8057777e-01,\n",
       "        4.4532636e-01,  7.1356140e-02,  6.0574710e-04,  5.5450207e-01,\n",
       "        7.1186721e-03,  5.8483474e-02, -4.7087595e-03,  3.3010310e-01,\n",
       "        8.0846864e-01,  5.2704471e-01,  6.3068086e-01,  2.1238533e-01,\n",
       "        4.8978731e-01,  8.5307553e-02,  6.5854186e-01,  3.4596148e-01,\n",
       "        3.5788260e-02,  6.7597800e-01,  6.9423538e-01,  4.4730452e-01,\n",
       "        5.1851976e-01,  6.6913748e-01,  7.5167507e-01,  8.3873957e-02,\n",
       "        2.3013246e-01,  7.1570313e-01, -2.4453826e-02,  3.1088987e-01,\n",
       "        2.1978900e-01,  4.5250528e-02,  7.5756818e-02,  2.8525698e-01,\n",
       "       -1.1301093e-02,  7.1446615e-01,  5.2638620e-01,  2.8415762e-02,\n",
       "        5.1085258e-01, -2.3669265e-02,  3.3207721e-01, -2.0593084e-02,\n",
       "        8.0528416e-02, -1.3750739e-02,  6.1611004e-02,  3.0183189e-02,\n",
       "        2.2191757e-01, -5.0695390e-03, -2.0607196e-02,  5.1309025e-01,\n",
       "        6.8412893e-02, -8.0625340e-03,  5.7978570e-01,  6.3246876e-01,\n",
       "        5.3153449e-01, -4.6900809e-03,  2.0804666e-02,  2.3511606e-01,\n",
       "        3.8025543e-02,  4.0059555e-01,  4.7884116e-01,  3.5326669e-01,\n",
       "        4.0816209e-01,  5.0627291e-01,  1.6026185e-01,  6.7669111e-01,\n",
       "        8.3706445e-01,  1.8581471e-01, -9.5130131e-03,  9.4894707e-01,\n",
       "        2.0669094e-01,  6.1359042e-01,  8.8530999e-01,  4.4650000e-01,\n",
       "        7.6827937e-01, -1.4191814e-02,  7.9723543e-01,  5.4560941e-01,\n",
       "        4.6594551e-01,  6.6098154e-01,  8.2211506e-01,  8.2791138e-01,\n",
       "        8.7995589e-02,  7.4662715e-01,  4.5603722e-01,  4.8192158e-01,\n",
       "        6.8574387e-01,  6.3814622e-01,  4.3469265e-01,  2.9773852e-01,\n",
       "       -4.5770630e-03,  2.0466110e-01,  2.2398776e-01,  4.5742312e-01,\n",
       "        4.2295477e-01,  1.3492900e-01,  6.1012912e-01,  6.1798841e-01,\n",
       "        2.8565910e-01,  3.4940502e-01,  5.6889272e-01,  1.4686717e-01,\n",
       "        6.7068547e-02,  4.8162606e-01,  4.4100490e-01,  1.2542798e-01,\n",
       "        3.4460902e-01,  2.0676765e-01,  4.3717903e-01,  4.4072621e-02,\n",
       "        5.5946356e-01,  4.4369903e-01,  6.3977045e-01,  5.2291900e-03,\n",
       "        1.7626940e-01, -1.9548245e-02,  3.5313645e-01, -1.6139783e-02,\n",
       "        6.9877541e-01,  2.7010366e-03,  7.1429825e-01, -2.0326219e-02,\n",
       "        7.1610427e-01, -2.1627851e-02,  1.4451060e-01,  4.5302682e-02,\n",
       "       -1.5683748e-02, -2.4909101e-02], dtype=float32)"
      ]
     },
     "execution_count": 27,
     "metadata": {},
     "output_type": "execute_result"
    }
   ],
   "source": [
    "array_test_predictions"
   ]
  },
  {
   "cell_type": "code",
   "execution_count": 28,
   "metadata": {},
   "outputs": [
    {
     "name": "stderr",
     "output_type": "stream",
     "text": [
      "C:\\Users\\Hunsoo\\Anaconda3\\lib\\site-packages\\ipykernel_launcher.py:3: RuntimeWarning: divide by zero encountered in true_divide\n",
      "  This is separate from the ipykernel package so we can avoid doing imports until\n"
     ]
    },
    {
     "data": {
      "text/plain": [
       "0.7967387394585858"
      ]
     },
     "execution_count": 28,
     "metadata": {},
     "output_type": "execute_result"
    }
   ],
   "source": [
    "mape_vectorized_v2(array_test_labels*100,array_test_predictions*100)"
   ]
  },
  {
   "cell_type": "code",
   "execution_count": null,
   "metadata": {},
   "outputs": [],
   "source": []
  }
 ],
 "metadata": {
  "kernelspec": {
   "display_name": "Python 3",
   "language": "python",
   "name": "python3"
  },
  "language_info": {
   "codemirror_mode": {
    "name": "ipython",
    "version": 3
   },
   "file_extension": ".py",
   "mimetype": "text/x-python",
   "name": "python",
   "nbconvert_exporter": "python",
   "pygments_lexer": "ipython3",
   "version": "3.6.8"
  }
 },
 "nbformat": 4,
 "nbformat_minor": 2
}
